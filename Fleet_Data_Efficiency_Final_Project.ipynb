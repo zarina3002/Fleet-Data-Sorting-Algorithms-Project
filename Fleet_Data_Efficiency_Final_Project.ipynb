{
  "nbformat": 4,
  "nbformat_minor": 0,
  "metadata": {
    "colab": {
      "provenance": []
    },
    "kernelspec": {
      "name": "python3",
      "display_name": "Python 3"
    },
    "language_info": {
      "name": "python"
    }
  },
  "cells": [
    {
      "cell_type": "markdown",
      "source": [
        "**Final Project for Algorithm Course**"
      ],
      "metadata": {
        "id": "vdbWKxL2y1Q9"
      }
    },
    {
      "cell_type": "markdown",
      "source": [
        "**Enhancing Fleet Data Efficiency through Sorting Algorithms – Bubble Sort, Merge Sort, and Quick Sort**"
      ],
      "metadata": {
        "id": "X1Wa_ue8ytkf"
      }
    },
    {
      "cell_type": "markdown",
      "source": [
        "**1. Imports**"
      ],
      "metadata": {
        "id": "nUamtlJYnxkK"
      }
    },
    {
      "cell_type": "code",
      "source": [
        "import time\n",
        "import random\n",
        "import pandas as pd\n",
        "import numpy as np\n",
        "from tabulate import tabulate"
      ],
      "metadata": {
        "id": "JDSIubWansdD"
      },
      "execution_count": 1,
      "outputs": []
    },
    {
      "cell_type": "markdown",
      "source": [
        "**Sorting Algorithm Implementations**"
      ],
      "metadata": {
        "id": "Fz6H3JPIqNZg"
      }
    },
    {
      "cell_type": "code",
      "source": [
        "def bubble_sort(arr):\n",
        "    \"\"\"Bubble Sort with comparison count.\"\"\"\n",
        "    n = len(arr)\n",
        "    comparisons = 0\n",
        "    arr = arr.copy()\n",
        "    for i in range(n):\n",
        "        for j in range(0, n-i-1):\n",
        "            comparisons += 1\n",
        "            if arr[j] > arr[j+1]:\n",
        "                arr[j], arr[j+1] = arr[j+1], arr[j]\n",
        "    return comparisons, arr\n",
        "\n",
        "def merge_sort(arr):\n",
        "    \"\"\"Merge Sort with comparison count.\"\"\"\n",
        "    def _merge_sort(arr):\n",
        "        if len(arr) <= 1:\n",
        "            return 0, arr\n",
        "        mid = len(arr) // 2\n",
        "        left_comp, left = _merge_sort(arr[:mid])\n",
        "        right_comp, right = _merge_sort(arr[mid:])\n",
        "        comp = left_comp + right_comp\n",
        "        merged = []\n",
        "        i = j = 0\n",
        "        while i < len(left) and j < len(right):\n",
        "            comp += 1\n",
        "            if left[i] < right[j]:\n",
        "                merged.append(left[i])\n",
        "                i += 1\n",
        "            else:\n",
        "                merged.append(right[j])\n",
        "                j += 1\n",
        "        merged.extend(left[i:])\n",
        "        merged.extend(right[j:])\n",
        "        return comp, merged\n",
        "    return _merge_sort(arr.copy())\n",
        "\n",
        "def quick_sort(arr):\n",
        "    \"\"\"Quick Sort with comparison count.\"\"\"\n",
        "    def _quick_sort(arr):\n",
        "        if len(arr) <= 1:\n",
        "            return 0, arr\n",
        "        pivot = arr[random.randint(0, len(arr)-1)]\n",
        "        less = [x for x in arr if x < pivot]\n",
        "        equal = [x for x in arr if x == pivot]\n",
        "        greater = [x for x in arr if x > pivot]\n",
        "        left_comp, less_sorted = _quick_sort(less)\n",
        "        right_comp, greater_sorted = _quick_sort(greater)\n",
        "        comp = left_comp + right_comp + len(arr) - 1\n",
        "        return comp, less_sorted + equal + greater_sorted\n",
        "    return _quick_sort(arr.copy())"
      ],
      "metadata": {
        "id": "33mhNgvYnsfp"
      },
      "execution_count": 2,
      "outputs": []
    },
    {
      "cell_type": "markdown",
      "source": [
        "**Complexity and Scalability Calculation**"
      ],
      "metadata": {
        "id": "2gfhh5JwqVML"
      }
    },
    {
      "cell_type": "code",
      "source": [
        "def calculate_space_complexity(algo_name, n):\n",
        "    \"\"\"Calculate theoretical space complexity.\"\"\"\n",
        "    if algo_name == \"Bubble Sort\":\n",
        "        return \"O(1)\"\n",
        "    elif algo_name == \"Merge Sort\":\n",
        "        return f\"O({n})\"\n",
        "    elif algo_name == \"Quick Sort\":\n",
        "        return f\"O({int(np.log2(n))})\"\n",
        "    return \"N/A\"\n",
        "\n",
        "def get_scalability(algo_name):\n",
        "    \"\"\"Return scalability label.\"\"\"\n",
        "    if algo_name == \"Bubble Sort\":\n",
        "        return \"Low\"\n",
        "    else:\n",
        "        return \"High\""
      ],
      "metadata": {
        "id": "cDiS__funspt"
      },
      "execution_count": 3,
      "outputs": []
    },
    {
      "cell_type": "markdown",
      "source": [
        "**Dataset Loading and Column Selection**"
      ],
      "metadata": {
        "id": "2_rwZ93Pqd0i"
      }
    },
    {
      "cell_type": "code",
      "source": [
        "def load_datasets():\n",
        "    \"\"\"\n",
        "    Load the four CSV datasets.\n",
        "    Replace the file paths with the actual locations of your CSV files.\n",
        "    \"\"\"\n",
        "    datasets = {\n",
        "        \"Fuel Data\": pd.read_csv(\"fuel_data.csv\"),\n",
        "        \"Maintenance Data\": pd.read_csv(\"maintenance_data.csv\"),\n",
        "        \"Driver Behavior Data\": pd.read_csv(\"driver_behavior_data.csv\"),\n",
        "        \"Location Data\": pd.read_csv(\"location_data.csv\")\n",
        "    }\n",
        "    return datasets\n",
        "\n",
        "def get_sort_column(dataset_name, df):\n",
        "    \"\"\"\n",
        "    Choose a sortable column for each dataset.\n",
        "    Adjust these column names based on your actual CSV structure!\n",
        "    \"\"\"\n",
        "    columns = {\n",
        "        \"Fuel Data\": \"engine_size\",\n",
        "        \"Maintenance Data\": \"service_cost\",\n",
        "        \"Driver Behavior Data\": \"acceleration\",\n",
        "        \"Location Data\": \"dispatch_number\"\n",
        "    }\n",
        "    col = columns.get(dataset_name)\n",
        "    if col not in df.columns:\n",
        "        for c in df.columns:\n",
        "            if pd.api.types.is_numeric_dtype(df[c]):\n",
        "                return c\n",
        "        raise ValueError(f\"No numeric column found in {dataset_name}\")\n",
        "    return col"
      ],
      "metadata": {
        "id": "byVCMptEnsyj"
      },
      "execution_count": 4,
      "outputs": []
    },
    {
      "cell_type": "markdown",
      "source": [
        "**Datasaet Preprocessing**"
      ],
      "metadata": {
        "id": "dAhLKikP0OZc"
      }
    },
    {
      "cell_type": "code",
      "source": [
        "def preprocess_data(df):\n",
        "    \"\"\"Clean and normalize dataset columns\"\"\"\n",
        "    df = df.dropna() # Handling missing values here\n",
        "\n",
        "    # Converting all numeric columns to float32 for consistency\n",
        "    numeric_cols = df.select_dtypes(include=['int64', 'float64']).columns\n",
        "    df[numeric_cols] = df[numeric_cols].astype('float32')\n",
        "\n",
        "    # Normalizing numeric columns (in the range of 0-1)\n",
        "    df[numeric_cols] = (df[numeric_cols] - df[numeric_cols].min()) / (df[numeric_cols].max() - df[numeric_cols].min())\n",
        "\n",
        "    return df"
      ],
      "metadata": {
        "id": "JNlZ7TlQqiQN"
      },
      "execution_count": 9,
      "outputs": []
    },
    {
      "cell_type": "markdown",
      "source": [
        "**Performance Metrics Table Prep**"
      ],
      "metadata": {
        "id": "TaknsWTPqjMY"
      }
    },
    {
      "cell_type": "code",
      "source": [
        "def generate_performance_tables(datasets):\n",
        "    \"\"\"Generate formatted performance tables for all datasets (original style)\"\"\"\n",
        "    column_names = [\"Algorithm Case\", \"Time (s)\", \"Comparisons\", \"Space Complexity\"]\n",
        "\n",
        "    for data_name, df in datasets.items():\n",
        "        col = get_sort_column(data_name, df)\n",
        "        data = df[col].dropna().tolist()\n",
        "        n = len(data)\n",
        "        if n == 0:\n",
        "            print(f\"Warning: No data in {data_name} for column {col}\")\n",
        "            continue\n",
        "\n",
        "        table_rows = []\n",
        "\n",
        "        #Bubble Sort Cases\n",
        "        start_time = time.time()\n",
        "        comp, _ = bubble_sort(data.copy())\n",
        "        exec_time = time.time() - start_time\n",
        "        table_rows.append([\n",
        "            \"Bubble Sort - Best Case\",\n",
        "            round(exec_time, 6),\n",
        "            comp,\n",
        "            calculate_space_complexity(\"Bubble Sort\", n)\n",
        "        ])\n",
        "\n",
        "        start_time = time.time()\n",
        "        comp, _ = bubble_sort(data[::-1])\n",
        "        exec_time = time.time() - start_time\n",
        "        table_rows.append([\n",
        "            \"Bubble Sort - Worst Case\",\n",
        "            round(exec_time, 6),\n",
        "            comp,\n",
        "            calculate_space_complexity(\"Bubble Sort\", n)\n",
        "        ])\n",
        "\n",
        "        # Merge Sort Cases\n",
        "        start_time = time.time()\n",
        "        comp, _ = merge_sort(data.copy())\n",
        "        exec_time = time.time() - start_time\n",
        "        table_rows.append([\n",
        "            \"Merge Sort - Best Case\",\n",
        "            round(exec_time, 6),\n",
        "            comp,\n",
        "            calculate_space_complexity(\"Merge Sort\", n)\n",
        "        ])\n",
        "\n",
        "        start_time = time.time()\n",
        "        comp, _ = merge_sort(data[::-1])\n",
        "        exec_time = time.time() - start_time\n",
        "        table_rows.append([\n",
        "            \"Merge Sort - Worst Case\",\n",
        "            round(exec_time, 6),\n",
        "            comp,\n",
        "            calculate_space_complexity(\"Merge Sort\", n)\n",
        "        ])\n",
        "\n",
        "        start_time = time.time()\n",
        "        comp, _ = merge_sort(random.sample(data, len(data)))\n",
        "        exec_time = time.time() - start_time\n",
        "        table_rows.append([\n",
        "            \"Merge Sort - Average Case\",\n",
        "            round(exec_time, 6),\n",
        "            comp,\n",
        "            calculate_space_complexity(\"Merge Sort\", n)\n",
        "        ])\n",
        "\n",
        "        # Quick Sort Cases\n",
        "        start_time = time.time()\n",
        "        comp, _ = quick_sort(data.copy())\n",
        "        exec_time = time.time() - start_time\n",
        "        table_rows.append([\n",
        "            \"Quick Sort - Best Case\",\n",
        "            round(exec_time, 6),\n",
        "            comp,\n",
        "            calculate_space_complexity(\"Quick Sort\", n)\n",
        "        ])\n",
        "\n",
        "        start_time = time.time()\n",
        "        comp, _ = quick_sort(data[::-1])\n",
        "        exec_time = time.time() - start_time\n",
        "        table_rows.append([\n",
        "            \"Quick Sort - Worst Case\",\n",
        "            round(exec_time, 6),\n",
        "            comp,\n",
        "            calculate_space_complexity(\"Quick Sort\", n)\n",
        "        ])\n",
        "\n",
        "        start_time = time.time()\n",
        "        comp, _ = quick_sort(random.sample(data, len(data)))\n",
        "        exec_time = time.time() - start_time\n",
        "        table_rows.append([\n",
        "            \"Quick Sort - Average Case\",\n",
        "            round(exec_time, 6),\n",
        "            comp,\n",
        "            calculate_space_complexity(\"Quick Sort\", n)\n",
        "        ])\n",
        "\n",
        "        print(f\"\\n Performance Metrics for Fleet Data Sorting Algorithms of the {data_name} Dataset\")\n",
        "        print(tabulate(table_rows, headers=column_names, tablefmt=\"grid\"))"
      ],
      "metadata": {
        "id": "aTuRpaBWqiZG"
      },
      "execution_count": 12,
      "outputs": []
    },
    {
      "cell_type": "markdown",
      "source": [
        "**Performance Metrics Table Generation**"
      ],
      "metadata": {
        "id": "SvGUKH-au2ZK"
      }
    },
    {
      "cell_type": "code",
      "source": [
        "if __name__ == \"__main__\":\n",
        "    try:\n",
        "        datasets = load_datasets()\n",
        "\n",
        "        if not datasets:\n",
        "            print(\"Error: No datasets loaded. Check your CSV files exist in the current directory.\")\n",
        "            print(\"Expected files: fuel_data.csv, maintenance_data.csv, driver_behavior_data.csv, location_data.csv\")\n",
        "        else:\n",
        "            generate_performance_tables(datasets)\n",
        "\n",
        "    except Exception as e:\n",
        "        print(f\"An error occurred: {str(e)}\")"
      ],
      "metadata": {
        "colab": {
          "base_uri": "https://localhost:8080/"
        },
        "id": "X_82_f0lw_QE",
        "outputId": "08247aa3-6fed-436c-b9e2-223659e83c57"
      },
      "execution_count": 13,
      "outputs": [
        {
          "output_type": "stream",
          "name": "stdout",
          "text": [
            "\n",
            " Performance Metrics for Fleet Data Sorting Algorithms of the Fuel Data Dataset\n",
            "+---------------------------+------------+---------------+--------------------+\n",
            "| Algorithm Case            |   Time (s) |   Comparisons | Space Complexity   |\n",
            "+===========================+============+===============+====================+\n",
            "| Bubble Sort - Best Case   |  25.4802   |     254375290 | O(1)               |\n",
            "+---------------------------+------------+---------------+--------------------+\n",
            "| Bubble Sort - Worst Case  |  48.271    |     254375290 | O(1)               |\n",
            "+---------------------------+------------+---------------+--------------------+\n",
            "| Merge Sort - Best Case    |   0.052047 |        193190 | O(22556)           |\n",
            "+---------------------------+------------+---------------+--------------------+\n",
            "| Merge Sort - Worst Case   |   0.044266 |        169260 | O(22556)           |\n",
            "+---------------------------+------------+---------------+--------------------+\n",
            "| Merge Sort - Average Case |   0.078506 |        294857 | O(22556)           |\n",
            "+---------------------------+------------+---------------+--------------------+\n",
            "| Quick Sort - Best Case    |   0.007845 |         92721 | O(14)              |\n",
            "+---------------------------+------------+---------------+--------------------+\n",
            "| Quick Sort - Worst Case   |   0.008316 |        104892 | O(14)              |\n",
            "+---------------------------+------------+---------------+--------------------+\n",
            "| Quick Sort - Average Case |   0.0185   |        110228 | O(14)              |\n",
            "+---------------------------+------------+---------------+--------------------+\n",
            "\n",
            " Performance Metrics for Fleet Data Sorting Algorithms of the Maintenance Data Dataset\n",
            "+---------------------------+------------+---------------+--------------------+\n",
            "| Algorithm Case            |   Time (s) |   Comparisons | Space Complexity   |\n",
            "+===========================+============+===============+====================+\n",
            "| Bubble Sort - Best Case   | 204.137    |    1249975000 | O(1)               |\n",
            "+---------------------------+------------+---------------+--------------------+\n",
            "| Bubble Sort - Worst Case  | 215.352    |    1249975000 | O(1)               |\n",
            "+---------------------------+------------+---------------+--------------------+\n",
            "| Merge Sort - Best Case    |   0.170387 |        718027 | O(50000)           |\n",
            "+---------------------------+------------+---------------+--------------------+\n",
            "| Merge Sort - Worst Case   |   0.261967 |        718164 | O(50000)           |\n",
            "+---------------------------+------------+---------------+--------------------+\n",
            "| Merge Sort - Average Case |   0.380941 |        718158 | O(50000)           |\n",
            "+---------------------------+------------+---------------+--------------------+\n",
            "| Quick Sort - Best Case    |   0.302286 |        863959 | O(15)              |\n",
            "+---------------------------+------------+---------------+--------------------+\n",
            "| Quick Sort - Worst Case   |   0.300514 |        886306 | O(15)              |\n",
            "+---------------------------+------------+---------------+--------------------+\n",
            "| Quick Sort - Average Case |   0.283684 |        882657 | O(15)              |\n",
            "+---------------------------+------------+---------------+--------------------+\n",
            "\n",
            " Performance Metrics for Fleet Data Sorting Algorithms of the Driver Behavior Data Dataset\n",
            "+---------------------------+------------+---------------+--------------------+\n",
            "| Algorithm Case            |   Time (s) |   Comparisons | Space Complexity   |\n",
            "+===========================+============+===============+====================+\n",
            "| Bubble Sort - Best Case   |   1.15558  |       4753986 | O(1)               |\n",
            "+---------------------------+------------+---------------+--------------------+\n",
            "| Bubble Sort - Worst Case  |   0.714292 |       4753986 | O(1)               |\n",
            "+---------------------------+------------+---------------+--------------------+\n",
            "| Merge Sort - Best Case    |   0.007362 |         31417 | O(3084)            |\n",
            "+---------------------------+------------+---------------+--------------------+\n",
            "| Merge Sort - Worst Case   |   0.007242 |         31482 | O(3084)            |\n",
            "+---------------------------+------------+---------------+--------------------+\n",
            "| Merge Sort - Average Case |   0.008638 |         31897 | O(3084)            |\n",
            "+---------------------------+------------+---------------+--------------------+\n",
            "| Quick Sort - Best Case    |   0.007609 |         39136 | O(11)              |\n",
            "+---------------------------+------------+---------------+--------------------+\n",
            "| Quick Sort - Worst Case   |   0.007336 |         42139 | O(11)              |\n",
            "+---------------------------+------------+---------------+--------------------+\n",
            "| Quick Sort - Average Case |   0.008407 |         40508 | O(11)              |\n",
            "+---------------------------+------------+---------------+--------------------+\n",
            "\n",
            " Performance Metrics for Fleet Data Sorting Algorithms of the Location Data Dataset\n",
            "+---------------------------+------------+---------------+--------------------+\n",
            "| Algorithm Case            |   Time (s) |   Comparisons | Space Complexity   |\n",
            "+===========================+============+===============+====================+\n",
            "| Bubble Sort - Best Case   |   0.006509 |         62481 | O(1)               |\n",
            "+---------------------------+------------+---------------+--------------------+\n",
            "| Bubble Sort - Worst Case  |   0.006398 |         62481 | O(1)               |\n",
            "+---------------------------+------------+---------------+--------------------+\n",
            "| Merge Sort - Best Case    |   0.000681 |          2561 | O(354)             |\n",
            "+---------------------------+------------+---------------+--------------------+\n",
            "| Merge Sort - Worst Case   |   0.000635 |          2564 | O(354)             |\n",
            "+---------------------------+------------+---------------+--------------------+\n",
            "| Merge Sort - Average Case |   0.000781 |          2574 | O(354)             |\n",
            "+---------------------------+------------+---------------+--------------------+\n",
            "| Quick Sort - Best Case    |   0.000733 |          2983 | O(8)               |\n",
            "+---------------------------+------------+---------------+--------------------+\n",
            "| Quick Sort - Worst Case   |   0.000663 |          2815 | O(8)               |\n",
            "+---------------------------+------------+---------------+--------------------+\n",
            "| Quick Sort - Average Case |   0.000793 |          3017 | O(8)               |\n",
            "+---------------------------+------------+---------------+--------------------+\n"
          ]
        }
      ]
    },
    {
      "cell_type": "code",
      "source": [],
      "metadata": {
        "id": "pNeXA4gjqicB"
      },
      "execution_count": null,
      "outputs": []
    }
  ]
}